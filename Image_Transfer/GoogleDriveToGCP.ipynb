{
  "nbformat": 4,
  "nbformat_minor": 0,
  "metadata": {
    "colab": {
      "name": "GoogleDriveToGCP",
      "provenance": [],
      "collapsed_sections": []
    },
    "kernelspec": {
      "name": "python3",
      "display_name": "Python 3"
    }
  },
  "cells": [
    {
      "cell_type": "markdown",
      "metadata": {
        "id": "P0eu6EkwXRRb"
      },
      "source": [
        "# GoogleDriveToGCP Script\n",
        "## Migrate Files from a Google Drive folder a Google Cloud Platform bucket\n",
        "### Anthony Ngo. November 2020\n",
        "\n",
        "<hr>\n",
        "\n"
      ]
    },
    {
      "cell_type": "markdown",
      "metadata": {
        "id": "olpReR9Aiv6Z"
      },
      "source": [
        "### 1. Sign into Google Drive\n",
        "\n",
        "a.   Run the following cell\n",
        "\n",
        "b.   Click on the URL in the output cell\n",
        "\n",
        "c.   Sign into the account linked to the Google Drive folder you'd like to migrate\n",
        "\n",
        "d.   Click \"Allow\"\n",
        "\n",
        "e.   Copy and paste the Authorization code into the box in the output cell. It should say \"Mounted at /content/drive\" if successful"
      ]
    },
    {
      "cell_type": "code",
      "metadata": {
        "id": "bdC12NSU501V",
        "outputId": "4b677997-2d96-4498-b408-db625ed5bdfe",
        "colab": {
          "base_uri": "https://localhost:8080/"
        }
      },
      "source": [
        "from google.colab import drive\n",
        "drive.mount('/content/drive')"
      ],
      "execution_count": 1,
      "outputs": [
        {
          "output_type": "stream",
          "text": [
            "Mounted at /content/drive\n"
          ],
          "name": "stdout"
        }
      ]
    },
    {
      "cell_type": "markdown",
      "metadata": {
        "id": "ggTjryYlY4Ir"
      },
      "source": [
        "### 2. Direct this script to the Google Drive folder\n",
        "\n",
        "a. Assign the ``` ICDataUpload ``` variable to the Google Drive folder path\n",
        "\n",
        "b. Run the following cell\n",
        "\n",
        "c. Ensure that the outputted files match those that are contained in the Google Drive folder\n",
        "\n"
      ]
    },
    {
      "cell_type": "code",
      "metadata": {
        "id": "bXk8xfKF5_w_",
        "outputId": "53203ea1-9c6b-4115-a061-046fa4cff628",
        "colab": {
          "base_uri": "https://localhost:8080/"
        }
      },
      "source": [
        "GDFolder =  \"My Drive/transfer_test\"\n",
        "\n",
        "!ls -R \"/content/drive/{GDFolder}\"\n"
      ],
      "execution_count": 5,
      "outputs": [
        {
          "output_type": "stream",
          "text": [
            "'/content/drive/My Drive/transfer_test':\n",
            "DIR1  DIR3\t   test_1.txt  test_3.txt  test_5.txt  test_7.txt  test_9.txt\n",
            "DIR2  test_10.txt  test_2.txt  test_4.txt  test_6.txt  test_8.txt\n",
            "\n",
            "'/content/drive/My Drive/transfer_test/DIR1':\n",
            "test_10.txt  test_2.txt  test_4.txt  test_6.txt  test_8.txt\n",
            "test_1.txt   test_3.txt  test_5.txt  test_7.txt  test_9.txt\n",
            "\n",
            "'/content/drive/My Drive/transfer_test/DIR2':\n",
            "test_10.txt  test_2.txt  test_4.txt  test_6.txt  test_8.txt\n",
            "test_1.txt   test_3.txt  test_5.txt  test_7.txt  test_9.txt\n",
            "\n",
            "'/content/drive/My Drive/transfer_test/DIR3':\n",
            "test_10.txt  test_2.txt  test_4.txt  test_6.txt  test_8.txt\n",
            "test_1.txt   test_3.txt  test_5.txt  test_7.txt  test_9.txt\n"
          ],
          "name": "stdout"
        }
      ]
    },
    {
      "cell_type": "markdown",
      "metadata": {
        "id": "BZzVit43itah"
      },
      "source": [
        "### 3. Sign into GCP\n",
        "\n",
        "a.   Run the following cell\n",
        "\n",
        "b.   Click on the URL in the output cell\n",
        "\n",
        "c.   Sign into the account linked to the Google Drive folder you'd like to migrate\n",
        "\n",
        "d.   Click \"Allow\"\n",
        "\n",
        "e.   Copy and paste the Authorization code into the box in the output cell"
      ]
    },
    {
      "cell_type": "code",
      "metadata": {
        "id": "fHE1M_yJlOvR"
      },
      "source": [
        "from google.colab import auth\n",
        "auth.authenticate_user()\n"
      ],
      "execution_count": 8,
      "outputs": []
    },
    {
      "cell_type": "markdown",
      "metadata": {
        "id": "TspX92EUlVGk"
      },
      "source": [
        "### 4. Direct this script to the GCP bucket\n",
        "\n",
        "a. Assign the ``` project_id ``` variable to the GCP project ID\n",
        "\n",
        "b. Assign the ``` bucket ``` variable to the path of the GCP bucket you'd like to migrate to\n",
        "\n",
        "c. Ensure that the outputted files match those that are in the GCP bucket (If the bucket is empty, make a temporary test file in the GCP bucket)"
      ]
    },
    {
      "cell_type": "code",
      "metadata": {
        "id": "y_muI672_53r",
        "outputId": "a2158fed-b20e-4afe-c4e5-7fc0a5d1a1d0",
        "colab": {
          "base_uri": "https://localhost:8080/"
        }
      },
      "source": [
        "\n",
        "project_id = ''\n",
        "\n",
        "bucket = ''\n",
        "\n",
        "!gcloud config set project {project_id}\n",
        "\n",
        "!gsutil ls \"gs://{bucket}/\""
      ],
      "execution_count": 9,
      "outputs": [
        {
          "output_type": "stream",
          "text": [
            "Updated property [core/project].\n",
            "\u001b[1;33mWARNING:\u001b[0m You do not appear to have access to project [cameratraprepo] or it does not exist.\n",
            "gs://anthony_upload/test/\n"
          ],
          "name": "stdout"
        }
      ]
    },
    {
      "cell_type": "markdown",
      "metadata": {
        "id": "fQWk6V3-oL6s"
      },
      "source": [
        "### 5. Copy the Google Drive files to the GCP Bucket\n",
        "\n",
        "a. Run the following cell\n",
        "\n",
        "NOTE: If you are running this script in Google Colab, you may close the tab/window while it's running\n",
        "\n",
        "b. Manually ensure the script worked by checking the GCP Bucket"
      ]
    },
    {
      "cell_type": "code",
      "metadata": {
        "id": "3vwiL54coMLu"
      },
      "source": [
        "\n",
        "!gsutil -m cp -r \"{GDFolder}*\" gs://{bucket}/"
      ],
      "execution_count": null,
      "outputs": []
    }
  ]
}